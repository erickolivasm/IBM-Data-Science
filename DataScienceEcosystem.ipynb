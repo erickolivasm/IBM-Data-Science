{
 "cells": [
  {
   "cell_type": "markdown",
   "id": "a291c2c5-e5c5-45af-9f56-2c1f096d28a0",
   "metadata": {},
   "source": [
    "# Data Science Tools and Ecosystem"
   ]
  },
  {
   "cell_type": "markdown",
   "id": "bc8a7b22-0ffc-4506-bb25-aa39f0c1adc3",
   "metadata": {},
   "source": [
    "In this notebook, Data Science Tools and Ecosystem are summarized."
   ]
  },
  {
   "cell_type": "markdown",
   "id": "cd607d3f-0564-4bdd-828f-31e2bfd2fea7",
   "metadata": {},
   "source": [
    "_Objectives:_\n",
    "\n",
    "* Identify popular languages for Data Science.\n",
    "* Identify popular libraries for Data Science.\n",
    "* Identify popular Data Science tools.\n",
    "* Make aritmetic expressions in Jupyter Notebooks."
   ]
  },
  {
   "cell_type": "markdown",
   "id": "9a630c49-a897-44d0-a3b2-d114c8957fa2",
   "metadata": {},
   "source": [
    "Some of the popular languages that Data Scientists use are:\n",
    "\n",
    "1. Python\n",
    "2. R\n",
    "3. SQL\n",
    "\n"
   ]
  },
  {
   "cell_type": "markdown",
   "id": "79a3cd0c-541e-4305-affd-2a15a5a5dd3d",
   "metadata": {},
   "source": [
    "Some of the commonly used libraries used by Data Scientists include:\n",
    "\n",
    "1. Numpy\n",
    "2. Pandas\n",
    "3. Matplotlib"
   ]
  },
  {
   "cell_type": "markdown",
   "id": "ed4b690d-d716-469a-a180-11966bb946e0",
   "metadata": {},
   "source": [
    "|Data Science Tools |\n",
    "| ----- | \n",
    "| TensorFlow | \n",
    "| SAS | \n",
    "| Apache Hadoop | \n"
   ]
  },
  {
   "cell_type": "markdown",
   "id": "9818e9c6-9353-4cc5-b139-b10d0c77a7f8",
   "metadata": {},
   "source": [
    "### Below are a few examples of evaluating arithmetic expressions in Python"
   ]
  },
  {
   "cell_type": "code",
   "execution_count": 2,
   "id": "d7c38cee-653b-4ea3-b4de-c8b0bea23b2a",
   "metadata": {},
   "outputs": [
    {
     "data": {
      "text/plain": [
       "17"
      ]
     },
     "execution_count": 2,
     "metadata": {},
     "output_type": "execute_result"
    }
   ],
   "source": [
    "# This a simple arithmetic expression to mutiply then add integers\n",
    "\n",
    "(3*4)+5"
   ]
  },
  {
   "cell_type": "code",
   "execution_count": 3,
   "id": "c2ba7044-08be-4f7d-a45a-d796d12a611f",
   "metadata": {},
   "outputs": [
    {
     "data": {
      "text/plain": [
       "3.3333333333333335"
      ]
     },
     "execution_count": 3,
     "metadata": {},
     "output_type": "execute_result"
    }
   ],
   "source": [
    "# This will convert 200 minutes to hours by diving by 60\n",
    "\n",
    "200/60"
   ]
  },
  {
   "cell_type": "markdown",
   "id": "bcb1ffd8-5bc6-4fb6-b718-077148ff2349",
   "metadata": {},
   "source": [
    "## Autor\n",
    "Erick Olivas"
   ]
  },
  {
   "cell_type": "code",
   "execution_count": null,
   "id": "a8b1ada7-eef8-4789-9884-cc2829fd01bb",
   "metadata": {},
   "outputs": [],
   "source": []
  }
 ],
 "metadata": {
  "kernelspec": {
   "display_name": "Python 3 (ipykernel)",
   "language": "python",
   "name": "python3"
  },
  "language_info": {
   "codemirror_mode": {
    "name": "ipython",
    "version": 3
   },
   "file_extension": ".py",
   "mimetype": "text/x-python",
   "name": "python",
   "nbconvert_exporter": "python",
   "pygments_lexer": "ipython3",
   "version": "3.13.2"
  }
 },
 "nbformat": 4,
 "nbformat_minor": 5
}
